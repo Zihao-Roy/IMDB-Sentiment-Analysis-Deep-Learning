{
 "cells": [
  {
   "cell_type": "markdown",
   "metadata": {},
   "source": [
    "# Bag of N-grams Model on IMDB Reviews"
   ]
  },
  {
   "cell_type": "markdown",
   "metadata": {},
   "source": [
    "__Inport these modules__"
   ]
  },
  {
   "cell_type": "code",
   "execution_count": 257,
   "metadata": {},
   "outputs": [],
   "source": [
    "import matplotlib.pyplot as plt\n",
    "%matplotlib inline\n",
    "\n",
    "from torch.utils.data import Dataset, DataLoader\n",
    "import torch\n",
    "import torch.nn as nn\n",
    "import torch.nn.functional as F\n",
    "import torch.optim as optim\n",
    "\n",
    "import os"
   ]
  },
  {
   "cell_type": "markdown",
   "metadata": {},
   "source": [
    "__Read in the training data from two folders named pos and neg__"
   ]
  },
  {
   "cell_type": "code",
   "execution_count": 258,
   "metadata": {},
   "outputs": [],
   "source": [
    "#Data Source: http://ai.stanford.edu/~amaas/data/sentiment/\n",
    "#Read positive reviews with label pos in training data\n",
    "files_pos = []\n",
    "dir1 = '../aclImdb/train/pos/'\n",
    "for f in os.listdir(dir1):\n",
    "    files_pos.append([open(dir1+f).read(),1])  #hard-code positive review as 1. This is important!!\n",
    "\n",
    "#Read Negative reviews with label neg in training data\n",
    "files_neg = []\n",
    "dir2 = '../aclImdb/train/neg/'\n",
    "for f in os.listdir(dir2):\n",
    "    files_neg.append([open(dir2+f).read(),0])\n"
   ]
  },
  {
   "cell_type": "markdown",
   "metadata": {},
   "source": [
    "__Merge two lists and shuffle it so that we can divide them into train and val later__"
   ]
  },
  {
   "cell_type": "code",
   "execution_count": 259,
   "metadata": {},
   "outputs": [],
   "source": [
    "from random import sample\n",
    "files_train = files_neg+files_pos\n",
    "files_train = sample(files_train, len(files_train))"
   ]
  },
  {
   "cell_type": "markdown",
   "metadata": {},
   "source": [
    "__Split train data into actual train and validation sets__"
   ]
  },
  {
   "cell_type": "code",
   "execution_count": 260,
   "metadata": {},
   "outputs": [],
   "source": [
    "train_split = 20000\n",
    "train_data_0, train_targets_0 = zip(*files_train)\n",
    "train_data = train_data_0[:train_split]\n",
    "train_targets = train_targets_0[:train_split]\n",
    "\n",
    "val_data = train_data_0[train_split:]\n",
    "val_targets = train_targets_0[train_split:]\n"
   ]
  },
  {
   "cell_type": "markdown",
   "metadata": {},
   "source": [
    "__The first tokenization is just the one from lab3. The second one just adds STOP-WORDS to the one from lab3. After experiementing these two schemes, second scheme gives a higher validation accuracy, so we'll choose the second scheme__"
   ]
  },
  {
   "cell_type": "code",
   "execution_count": 268,
   "metadata": {},
   "outputs": [],
   "source": [
    "# Let's write the tokenization function with STOP-WORDS scheme\n",
    "\n",
    "import spacy\n",
    "import string\n",
    "from spacy.lang.en.stop_words import STOP_WORDS\n",
    "\n",
    "# Load English tokenizer, tagger, parser, NER and word vectors\n",
    "tokenizer = spacy.load('en_core_web_sm')\n",
    "punctuations = string.punctuation\n",
    "\n",
    "# lowercase and remove punctuation\n",
    "def tokenize(sent):\n",
    "  tokens = tokenizer(sent)\n",
    "  return [token.text.lower() for token in tokens if (token.text not in punctuations and token.text not in STOP_WORDS)]"
   ]
  },
  {
   "cell_type": "code",
   "execution_count": 269,
   "metadata": {},
   "outputs": [
    {
     "name": "stdout",
     "output_type": "stream",
     "text": [
      "Tokenizing train data\n",
      "Tokenizing val data\n"
     ]
    }
   ],
   "source": [
    "#tokenization\n",
    "\n",
    "import pickle as pkl\n",
    "\n",
    "def tokenize_dataset(dataset):\n",
    "    token_dataset = []\n",
    "    # we are keeping track of all tokens in dataset \n",
    "    # in order to create vocabulary later\n",
    "    all_tokens = []\n",
    "    \n",
    "    for sample in dataset:\n",
    "        tokens = tokenize(sample)   # a list\n",
    "        token_dataset.append(tokens)  #take the list as the first entry\n",
    "        all_tokens += tokens    # literally all tokens one by one \n",
    "\n",
    "    return token_dataset, all_tokens\n",
    "\n",
    "# train set tokens\n",
    "print('Tokenizing train data')\n",
    "train_data_tokens, all_train_tokens = tokenize_dataset(train_data)\n",
    "pkl.dump(train_data_tokens, open(\"train_data_tokens.p\", \"wb\"))\n",
    "pkl.dump(all_train_tokens, open(\"all_train_tokens.p\", \"wb\"))\n",
    "\n",
    "#val set tokens\n",
    "print (\"Tokenizing val data\")\n",
    "val_data_tokens, _ = tokenize_dataset(val_data)\n",
    "pkl.dump(val_data_tokens, open(\"val_data_tokens.p\", \"wb\"))\n",
    "\n"
   ]
  },
  {
   "cell_type": "markdown",
   "metadata": {},
   "source": [
    "__Create the vocabulary with some vocabulary size__"
   ]
  },
  {
   "cell_type": "code",
   "execution_count": 282,
   "metadata": {},
   "outputs": [],
   "source": [
    "# Now we're going to create the vocabulary\n",
    "\n",
    "from collections import Counter\n",
    "# max_vocal_size =10000\n",
    "# save index 0 for unk and 1 for pad\n",
    "PAD_IDX = 0\n",
    "UNK_IDX = 1\n",
    "\n",
    "def build_vocab(all_tokens):\n",
    "    # Returns:\n",
    "    # id2token: list of tokens, where id2token[i] returns token that corresponds to token i\n",
    "    # token2id: dictionary where keys represent tokens and corresponding values represent indices\n",
    "    \n",
    "    token_counter = Counter(all_tokens) #find the counts of each token\n",
    "    vocab, count = zip(*token_counter.most_common(max_vocab_size))  #zip Make an iterator that aggregates elements from each of the iterables.\n",
    "    id2token = list(vocab)\n",
    "    token2id = dict(zip(vocab, range(2,2+len(vocab)))) #starts from 2 because PAD_IDX and UNK-IDX\n",
    "    id2token = ['<pad>', '<unk>'] + id2token\n",
    "    token2id['<pad>'] = PAD_IDX \n",
    "    token2id['<unk>'] = UNK_IDX\n",
    "    return token2id, id2token\n",
    "\n",
    "#token2id, id2token = build_vocab(all_train_tokens)"
   ]
  },
  {
   "cell_type": "markdown",
   "metadata": {},
   "source": [
    "__One-hot Code the tokens. This gives a vector of indices of tokens in review__"
   ]
  },
  {
   "cell_type": "code",
   "execution_count": 283,
   "metadata": {},
   "outputs": [],
   "source": [
    "# convert token to id in the dataset within vacabulary built above\n",
    "\n",
    "def token2index_dataset(tokens_data):\n",
    "    indices_data = []\n",
    "    for tokens in tokens_data:\n",
    "        index_list = [token2id[token] if token in token2id else UNK_IDX for token in tokens]\n",
    "        indices_data.append(index_list)\n",
    "    return indices_data\n",
    "\n",
    "#train_data_indices = token2index_dataset(train_data_tokens) # each element is a list of indices of a line of tokens.\n",
    "#val_data_indices = token2index_dataset(val_data_tokens)\n",
    "\n",
    "# double checking\n",
    "#print (\"Train dataset size is {}\".format(len(train_data_indices)))\n",
    "#print (\"Val dataset size is {}\".format(len(val_data_indices)))"
   ]
  },
  {
   "cell_type": "code",
   "execution_count": null,
   "metadata": {},
   "outputs": [],
   "source": []
  },
  {
   "cell_type": "markdown",
   "metadata": {},
   "source": [
    "__Create the Pytorch Dataloader__"
   ]
  },
  {
   "cell_type": "code",
   "execution_count": 345,
   "metadata": {},
   "outputs": [],
   "source": [
    "import numpy as np\n",
    "import torch\n",
    "from torch.utils.data import Dataset \n",
    "\n",
    "MAX_SENTENCE_LENGTH = 200\n",
    "class IMDBdataset(Dataset):\n",
    "    def __init__(self, data_list, target_list):\n",
    "        \"\"\"\n",
    "        @param data_list: list of movie review tokens \n",
    "        @param target_list: list of movie review targets \n",
    "\n",
    "        \"\"\"\n",
    "        self.data_list = data_list\n",
    "        self.target_list = target_list\n",
    "        assert (len(self.data_list) == len(self.target_list))\n",
    "\n",
    "    def __len__(self):\n",
    "        return len(self.data_list)\n",
    "        \n",
    "    def __getitem__(self, key):\n",
    "        \"\"\"\n",
    "        Triggered when you call dataset[i]\n",
    "        \"\"\"\n",
    "        \n",
    "        token_idx = self.data_list[key][:MAX_SENTENCE_LENGTH]\n",
    "        label = self.target_list[key]\n",
    "        return [token_idx, len(token_idx), label]  \n",
    "    \n",
    "def IMDB_collate_func(batch):\n",
    "    \"\"\"\n",
    "    Customized function for DataLoader that dynamically pads the batch so that all \n",
    "    data have the same length\n",
    "    \"\"\"\n",
    "    data_list = []\n",
    "    label_list = []\n",
    "    length_list = []\n",
    "    #print(\"collate batch: \", batch[0][0])\n",
    "    #batch[0][0] = batch[0][0][:MAX_SENTENCE_LENGTH]\n",
    "    for datum in batch:\n",
    "        label_list.append(datum[2])\n",
    "        length_list.append(datum[1])\n",
    "    # padding\n",
    "    for datum in batch:\n",
    "        padded_vec = np.pad(np.array(datum[0]), \n",
    "                                pad_width=((0,MAX_SENTENCE_LENGTH-datum[1])), \n",
    "                                mode=\"constant\", constant_values=0)\n",
    "        data_list.append(padded_vec)\n",
    "    return [torch.LongTensor(np.array(data_list)), torch.LongTensor(length_list), torch.LongTensor(label_list)]\n",
    "# create pytorch dataloader\n",
    "#train_loader = IMDBdataset(train_data_indices, train_targets)\n",
    "#val_loader = IMDBdataset(val_data_indices, val_targets)\n",
    "#test_loader = IMDBdataset(test_data_indices, test_targets)\n",
    "\n",
    "# BATCH_SIZE = 32\n",
    "# train_dataset = IMDBdataset(train_data_indices, train_targets)\n",
    "# train_loader = torch.utils.data.DataLoader(dataset=train_dataset, \n",
    "#                                            batch_size=BATCH_SIZE,\n",
    "#                                            collate_fn=IMDB_collate_func,\n",
    "#                                            shuffle=True)\n",
    "\n",
    "# val_dataset = IMDBdataset(val_data_indices, val_targets)\n",
    "# val_loader = torch.utils.data.DataLoader(dataset=val_dataset, \n",
    "#                                            batch_size=BATCH_SIZE,\n",
    "#                                            collate_fn=IMDB_collate_func,\n",
    "#                                            shuffle=True)\n",
    "\n",
    "\n",
    "# for i, (data, lengths, labels) in enumerate(train_loader):\n",
    "#     print (data)\n",
    "#     print (labels)\n",
    "#     break\n",
    "    "
   ]
  },
  {
   "cell_type": "markdown",
   "metadata": {},
   "source": [
    "__Define the bag of words model in Pytorch__"
   ]
  },
  {
   "cell_type": "code",
   "execution_count": 287,
   "metadata": {},
   "outputs": [],
   "source": [
    "class BagOfWords(nn.Module):\n",
    "    \"\"\"\n",
    "    BagOfWords classification model\n",
    "    \"\"\"\n",
    "    def __init__(self, vocab_size, emb_dim):\n",
    "        \"\"\"\n",
    "        @param vocab_size: size of the vocabulary. \n",
    "        @param emb_dim: size of the word embedding\n",
    "        \"\"\"\n",
    "        super(BagOfWords, self).__init__()\n",
    "        # pay attention to padding_idx \n",
    "        self.embed = nn.Embedding(vocab_size, emb_dim, padding_idx=0)   #embedding size 100, 200, 500\n",
    "        self.linear = nn.Linear(emb_dim,2)\n",
    "    \n",
    "    def forward(self, data, length):\n",
    "        \"\"\"\n",
    "        \n",
    "        @param data: matrix of size (batch_size, max_sentence_length). Each row in data represents a \n",
    "            review that is represented using n-gram index. Note that they are padded to have same length.\n",
    "        @param length: an int tensor of size (batch_size), which represents the non-trivial (excludes padding)\n",
    "            length of each sentences in the data.\n",
    "        \"\"\"\n",
    "        out = self.embed(data)\n",
    "        out = torch.sum(out, dim=1)\n",
    "        out /= length.view(length.size()[0],1).expand_as(out).float()\n",
    "     \n",
    "        # return logits\n",
    "        out = self.linear(out.float())\n",
    "        return out\n",
    "\n",
    "#emb_dim = 100\n",
    "#model = BagOfWords(len(id2token), emb_dim)\n"
   ]
  },
  {
   "cell_type": "markdown",
   "metadata": {},
   "source": [
    "__Functions for testing the model__"
   ]
  },
  {
   "cell_type": "code",
   "execution_count": 288,
   "metadata": {},
   "outputs": [],
   "source": [
    "\n",
    "def test_model(loader, model):\n",
    "    \"\"\"\n",
    "    Help function that tests the model's performance on a dataset\n",
    "    @param: loader - data loader for the dataset to test against\n",
    "    \"\"\"\n",
    "    correct = 0\n",
    "    total = 0\n",
    "    model.eval()\n",
    "    for data, lengths, labels in loader:\n",
    "        data_batch, length_batch, label_batch = data, lengths, labels\n",
    "        outputs = F.softmax(model(data_batch, length_batch), dim=1)\n",
    "        predicted = outputs.max(1, keepdim=True)[1]\n",
    "#         predicted = torch.tensor([1 if x >= 0.5 else 0 for x in outputs[:, 1]]      )\n",
    "        total += labels.size(0)\n",
    "        correct += predicted.eq(labels.view_as(predicted)).sum().item()\n",
    "    return (100 * correct / total)\n",
    "\n",
    "def train_model(model,\n",
    "              lr = 0.01, \n",
    "              num_epochs = 5, \n",
    "              criterion = nn.CrossEntropyLoss()):\n",
    "    optimizer = torch.optim.Adam(model.parameters(), lr=lr) # wd: linear\n",
    "    losses = []\n",
    "    xs = 0\n",
    "    val_accs = []\n",
    "    for epoch in range(num_epochs):\n",
    "        for i, (data, lengths, labels) in enumerate(train_loader):\n",
    "            model.train()\n",
    "            data_batch, length_batch, label_batch = data, lengths, labels\n",
    "            optimizer.zero_grad()\n",
    "            outputs = model(data_batch, length_batch)\n",
    "            loss = criterion(outputs, label_batch)\n",
    "            losses.append(loss)\n",
    "            loss.backward()\n",
    "            optimizer.step()\n",
    "            # validate every 100 iterations\n",
    "            if i > 0 and i % 100 == 0:\n",
    "                # validate\n",
    "                val_acc = test_model(val_loader, model)\n",
    "                xs = xs + 100\n",
    "                val_accs.append(val_acc)\n",
    "                print('Epoch: [{}/{}], Step: [{}/{}], Validation Acc: {}'.format( \n",
    "                           epoch+1, num_epochs, i+1, len(train_loader), val_acc))\n",
    "    return losses, xs, val_accs"
   ]
  },
  {
   "cell_type": "markdown",
   "metadata": {},
   "source": [
    "__Bag of n-grams__\n"
   ]
  },
  {
   "cell_type": "code",
   "execution_count": 289,
   "metadata": {},
   "outputs": [],
   "source": [
    "def bag_of_ngrams(n, tokens):\n",
    "    return zip(*[tokens[i:] for i in range(n)])\n",
    "\n",
    "#generate unigram, bigram and combined one\n",
    "unigrams = list(bag_of_ngrams(1, all_train_tokens))\n",
    "bigrams = list(bag_of_ngrams(2, all_train_tokens))\n",
    "combined =unigrams + bigrams"
   ]
  },
  {
   "cell_type": "markdown",
   "metadata": {},
   "source": [
    "__Finally, let's run models with different hyperperameter settings!__"
   ]
  },
  {
   "cell_type": "code",
   "execution_count": 363,
   "metadata": {},
   "outputs": [
    {
     "name": "stdout",
     "output_type": "stream",
     "text": [
      "Token id 4640 ; token ('catching',)\n",
      "Token ('catching',); token id 4640\n",
      "Train dataset size is 20000\n",
      "Val dataset size is 5000\n"
     ]
    }
   ],
   "source": [
    "max_vocab_size = 10000\n",
    "ngram = 1\n",
    "embed_size = 500\n",
    "LEARNING_RATE = 0.005\n",
    "NUM_EPOCHS = 5\n",
    "\n",
    "# Building the vocabulary\n",
    "#Try different ngram\n",
    "token2id, id2token = build_vocab(bag_of_ngrams(ngram, all_train_tokens))\n",
    "\n",
    "# Check the dictionary\n",
    "random_token_id = random.randint(0, len(id2token)-1)\n",
    "random_token = id2token[random_token_id]\n",
    "\n",
    "print (\"Token id {} ; token {}\".format(random_token_id, id2token[random_token_id]))\n",
    "print (\"Token {}; token id {}\".format(random_token, token2id[random_token]))\n",
    "\n",
    "ngram_train_data_tokens = [list(bag_of_ngrams(ngram, review)) for review in train_data_tokens]\n",
    "ngram_val_data_tokens = [list(bag_of_ngrams(ngram, review)) for review in val_data_tokens]\n",
    "\n",
    "\n",
    "train_data_indices = token2index_dataset(ngram_train_data_tokens)\n",
    "val_data_indices = token2index_dataset(ngram_val_data_tokens)\n",
    "\n",
    "# double checking\n",
    "print (\"Train dataset size is {}\".format(len(train_data_indices)))\n",
    "print (\"Val dataset size is {}\".format(len(val_data_indices)))\n",
    "\n",
    "BATCH_SIZE = 32\n",
    "train_dataset = IMDBdataset(train_data_indices, train_targets)\n",
    "train_loader = torch.utils.data.DataLoader(dataset=train_dataset, \n",
    "                                           batch_size=BATCH_SIZE,\n",
    "                                           collate_fn=IMDB_collate_func,\n",
    "                                           shuffle=True)\n",
    "\n",
    "val_dataset = IMDBdataset(val_data_indices, val_targets)\n",
    "val_loader = torch.utils.data.DataLoader(dataset=val_dataset, \n",
    "                                           batch_size=BATCH_SIZE,\n",
    "                                           collate_fn=IMDB_collate_func,\n",
    "                                           shuffle=True)"
   ]
  },
  {
   "cell_type": "code",
   "execution_count": 364,
   "metadata": {},
   "outputs": [
    {
     "name": "stdout",
     "output_type": "stream",
     "text": [
      "Epoch: [1/5], Step: [101/625], Validation Acc: 82.16\n",
      "Epoch: [1/5], Step: [201/625], Validation Acc: 85.62\n",
      "Epoch: [1/5], Step: [301/625], Validation Acc: 86.96\n",
      "Epoch: [1/5], Step: [401/625], Validation Acc: 85.26\n",
      "Epoch: [1/5], Step: [501/625], Validation Acc: 87.54\n",
      "Epoch: [1/5], Step: [601/625], Validation Acc: 87.42\n",
      "Epoch: [2/5], Step: [101/625], Validation Acc: 87.74\n",
      "Epoch: [2/5], Step: [201/625], Validation Acc: 87.28\n",
      "Epoch: [2/5], Step: [301/625], Validation Acc: 87.0\n",
      "Epoch: [2/5], Step: [401/625], Validation Acc: 87.06\n",
      "Epoch: [2/5], Step: [501/625], Validation Acc: 87.22\n",
      "Epoch: [2/5], Step: [601/625], Validation Acc: 87.0\n",
      "Epoch: [3/5], Step: [101/625], Validation Acc: 87.4\n",
      "Epoch: [3/5], Step: [201/625], Validation Acc: 87.1\n",
      "Epoch: [3/5], Step: [301/625], Validation Acc: 86.72\n",
      "Epoch: [3/5], Step: [401/625], Validation Acc: 86.72\n",
      "Epoch: [3/5], Step: [501/625], Validation Acc: 86.64\n",
      "Epoch: [3/5], Step: [601/625], Validation Acc: 86.4\n",
      "Epoch: [4/5], Step: [101/625], Validation Acc: 86.3\n",
      "Epoch: [4/5], Step: [201/625], Validation Acc: 86.14\n",
      "Epoch: [4/5], Step: [301/625], Validation Acc: 85.94\n",
      "Epoch: [4/5], Step: [401/625], Validation Acc: 86.04\n",
      "Epoch: [4/5], Step: [501/625], Validation Acc: 85.1\n",
      "Epoch: [4/5], Step: [601/625], Validation Acc: 85.9\n",
      "Epoch: [5/5], Step: [101/625], Validation Acc: 85.48\n",
      "Epoch: [5/5], Step: [201/625], Validation Acc: 85.52\n",
      "Epoch: [5/5], Step: [301/625], Validation Acc: 85.68\n",
      "Epoch: [5/5], Step: [401/625], Validation Acc: 85.38\n",
      "Epoch: [5/5], Step: [501/625], Validation Acc: 85.24\n",
      "Epoch: [5/5], Step: [601/625], Validation Acc: 85.3\n"
     ]
    }
   ],
   "source": [
    "model = BagOfWords(len(id2token), embed_size)\n",
    "\n",
    "losses, xs, val_accs = train_model(model,\n",
    "          lr = LEARNING_RATE, \n",
    "          num_epochs = NUM_EPOCHS, \n",
    "          criterion = nn.CrossEntropyLoss())"
   ]
  },
  {
   "cell_type": "code",
   "execution_count": 365,
   "metadata": {},
   "outputs": [
    {
     "data": {
      "text/plain": [
       "3125"
      ]
     },
     "execution_count": 365,
     "metadata": {},
     "output_type": "execute_result"
    }
   ],
   "source": [
    "len(losses)"
   ]
  },
  {
   "cell_type": "code",
   "execution_count": 381,
   "metadata": {},
   "outputs": [
    {
     "data": {
      "text/plain": [
       "Text(0,0.5,'Val Acc')"
      ]
     },
     "execution_count": 381,
     "metadata": {},
     "output_type": "execute_result"
    },
    {
     "data": {
      "image/png": "[encoded data removed]",
      "text/plain": [
       "<Figure size 720x360 with 2 Axes>"
      ]
     },
     "metadata": {},
     "output_type": "display_data"
    }
   ],
   "source": [
    "fig = plt.figure(figsize=(10, 5))\n",
    "\n",
    "loss_avg_vals = []\n",
    "for i in range(0, len(losses)-100, 100):\n",
    "    loss = 0\n",
    "    avg_loss = 0\n",
    "    for j in range(i, i+100):\n",
    "        loss += losses[j]\n",
    "    avg_loss = loss/100.0\n",
    "    loss_avg_vals.append(avg_loss)\n",
    "plt.subplot(1, 2, 1)\n",
    "plt.plot(range(len(loss_avg_vals)), loss_avg_vals)\n",
    "plt.title('Train')\n",
    "plt.xlabel('step')\n",
    "plt.ylabel('Loss')\n",
    "\n",
    "plt.subplot(1, 2, 2)\n",
    "plt.plot(range(0, xs, 100), val_accs)\n",
    "plt.title('Validation Accuracy')\n",
    "plt.xlabel('Step')\n",
    "plt.ylabel('Val Acc')"
   ]
  },
  {
   "cell_type": "markdown",
   "metadata": {},
   "source": [
    "__Find 3 correct predictions and 3 wrong predictions__"
   ]
  },
  {
   "cell_type": "code",
   "execution_count": 386,
   "metadata": {},
   "outputs": [],
   "source": [
    "model.eval()\n",
    "\n",
    "eval_dataset = IMDBdataset(val_data_indices, val_targets)\n",
    "eval_loader = torch.utils.data.DataLoader(dataset=val_dataset, \n",
    "                                          batch_size=1,\n",
    "                                          collate_fn=IMDB_collate_func,\n",
    "                                          shuffle=False)\n",
    "\n",
    "incorrect_data = []\n",
    "correct_data = []\n",
    "corr_count = 0\n",
    "incorr_count = 0\n",
    "i = 0\n",
    "for data, lengths, labels in eval_loader:\n",
    "        data_batch, length_batch, label_batch = data, lengths, labels\n",
    "        outputs = F.softmax(model(data_batch, length_batch), dim=1)\n",
    "        predicted = outputs.max(1, keepdim=True)[1]\n",
    "        \n",
    "        if (predicted.squeeze().item() == labels.squeeze().item() and incorr_count <= 2):\n",
    "            incorr_count += 1\n",
    "            incorrect_data.append(val_data[i])\n",
    "        elif (predicted.squeeze().item() != labels.squeeze().item() and corr_count <= 2):\n",
    "            corr_count += 1\n",
    "            correct_data.append(val_data[i])\n",
    "        i += 1\n",
    "        \n",
    "        if corr_count == 3 and incorr_count == 3:\n",
    "            break"
   ]
  },
  {
   "cell_type": "code",
   "execution_count": 387,
   "metadata": {},
   "outputs": [
    {
     "name": "stdout",
     "output_type": "stream",
     "text": [
      "THE BRAIN THAT WOULDN'T DIE was considered so distasteful in 1959 that several cuts and the passage of three years was required before it was released in 1962. Today it is difficult to imagine how anyone could have taken the thing seriously even in 1959; the thing is both lurid and lewd, but it is also incredibly ludicrous in a profoundly bumptious sort of way.<br /><br />The story, of course, concerns a doctor who is an eager experimenter in transplanting limbs--and when his girl friend is killed in a car crash he rushes her head to his secret lab. With the aid of a few telephone cords, a couple of clamps, and what looks very like a shallow baking pan, he brings her head back to life. But is she grateful? Not hardly. In fact, she seems mightily ticked off about the whole thing, particularly when it transpires that the doctor plans to attach her head to another body.<br /><br />As it happens, the doctor is picky about this new body: he wants one built for speed, and he takes to cruising disconcerted women on city sidewalks, haunting strip joints, visiting body beautiful contests, and hunting down cheesecake models in search of endowments that will raise his eyebrow. But back at the lab, the head has developed a chemically-induced psychic link with another one of the doctor's experiments, this one so hideous that it is kept locked out of sight in a handy laboratory closet. Can they work together to get rid of the bitter and malicious lab assistance, wreck revenge upon the doctor, and save the woman whose body he hankers for? Could be! Leading man Jason Evers plays the roguish doctor as if he's been given a massive dose of Spanish fly; Virginia Leith, the unhappy head, screeches and cackles in spite of the fact that she has no lungs and maybe not even any vocal chords. Busty babes gyrate to incredibly tawdry music, actors make irrational character changes from line to line, the dialogue is even more nonsensical than the plot, and you'll need a calculator to add up the continuity goofs. On the whole THE BRAIN THAT WOULDN'T DIE comes off as even more unintentionally funny than an Ed Wood movie.<br /><br />Director Joseph Green actually manages to keep the whole thing moving at pretty good clip, and looking at the film today it is easy to pick out scenes that influenced later directors, who no doubt saw the thing when they were young and impressionable and never quite got over it. The cuts made before the film went into release are forever lost, but the cuts made for television have been restored in the Alpha release, and while the film and sound quality aren't particularly great it's just as well to recall that they probably weren't all that good to begin with.<br /><br />Now, this is one of those movies that you'll either find incredibly dull or wildly hilarious, depending on your point of view, so it is very hard to give a recommendation. But I'll say this: if your tastes run to the likes of Ed Wood or Russ Meyers, you need to snap this one up and now! Four stars for its cheesy-bizarreness alone! GFT, Amazon Reviewer\n",
      "\n",
      "This film is to my mind the weakest film in the original Star Wars trilogy, for a variety of reasons. However it emerges at the end of the day a winner, despite all its flaws. It's still a very good film, even if a lot of its quality depends on the characters that have been built up in the superior 2 installments.<br /><br />One problem here is the look of the film, which isn't very consistent with the other 2 films. I put a lot of that down to the departure of producer Gary Kurtz. The first 2 films have that dirty, lived-in look with all the technology and so forth. In \"Jedi\" on the other hand even the rebels look like they just stepped out of a shower and had their uniforms dry cleaned. This makes for a much less textured film. Also the creatures were excessively muppet-like and cutesy. At this point it seems like the film-makers were more concerned with creating the templates for future action figures than with the quality of the film itself.<br /><br />Another aspect is its lack of originality. Where \"Star Wars\" created a whole new experience in cinema and \"Empire\" brought us to alien worlds of swamps, ice, and clouds, \"Jedi\" lamely re-cycled the locations of the first film. First we are back on the desert planet Tatooine, and then we are watching them face ANOTHER death star (maybe the emperor couldn't think of anything new... but you'd think Lucas or Kasdan could). Also we have these ewoks, who really are just detestable made-for-mattel teddy bears, in a recycled version of what was supposed to be the big wookie-fight at the end of \"Star Wars\" if they hadn't run out of cash. It just feels like lazy construction.<br /><br />The most unfortunate aspect of \"Jedi\" for me is the weak handling of the Han Solo character. Whereas he is central to the plot of the first 2 films here he is struggling for screen time, trading one liners with the droids. Instead of a real drama we're stuck with the lame pretense that Han is still convinced Leia loves Luke -- as if the conclusion of \"Empire\" where she confessed her love of him had never happened. The whole thing is very contrived and barely conceals the fact that the Solo character was not part of this film's central story after his rescue. Ford, for his part, looks bored and lacks the style that distinguished his earlier performances. This is more like a 1990s Ford performance, bored and looking \"above\" the film itself. Fisher for her part is visibly high in some scenes. Lando, an interesting character introduced in \"Empire\", here is stuck as the ostensible person we care about in the giant space battle. Only Hamill, given an interesting development in the Luke character, is really able to do anything new or interesting with his character. Probably he was the only major actor in the film who still cared about his work. And to be fair the script gives him a lot more to do than the other characters. Really it is his story and the other characters are only there as part of the package. Ian McDiarmid does excellent work as well as the Emperor. The film would sink if he had been too far over the top (as he was at times in the new films).<br /><br />Visually and in terms of effects work, other than the \"clean\" look of everything it's hard to find fault. Jabba is a very effective animatronic character, one of the most elaborate ever constructed. The space battles towards the end are very impressive.<br /><br />Ultimately this film coasts to success based on the accomplishments of its forebears. But on its own, it is a satisfying piece of entertainment and IMHO far superior to any of Lucas' later productions.\n",
      "\n",
      "In the mid-1930s Hollywood was regaining its confidence after the difficulties of the talkie transition. Although all the technical problems of sound had been solved very quickly, it took longer to resolve the questions of how talking pictures should look, how they should be structured and how they should be acted. The Informer is a key picture in that it shows the extent to which wordless moments can convey story, asserting the power images without ignoring the necessities of sound and dialogue.<br /><br />This is not to say the Informer is truly a throwback to the golden days of the silents. For one thing, many silent pictures were not so purely visual in their narrative, and were overburdened with title cards. But what the Informer has is the self-assuredness to extend moments between dialogues, to focus on reactions more than speeches, and to let shots play out simply for atmosphere.<br /><br />Director John Ford, for all his capability, was a filmmaker who appears to have put in effort in proportion to how interested he was in the material. If he thought a story was silly, he just did it half-arsed. Luckily the Informer, with its depiction of community, honour, working class life and most importantly Irish setting, was everything Ford loved, and the result is one of his finest works. In it, Ford only really employs too kinds of shot. The first is of places  the Dublin streets shrouded in mist and darkness so their furthest depths cannot be seen; dingy interiors where the walls and ceilings seem to press in on us. The second is of faces, striking close-ups against plain backgrounds, usually without dialogue, focusing us upon the inner conflicts of these people.<br /><br />Lead man Victor McLaglen fits perfectly within this character and this manner of filming him. McLaglen's performance does not look like much, being as it is about 90% drunk act. But the other 10% is heartfelt emoting, as here and there his Gypo Nolan has what alcoholics refer to as a moment of clarity. With such performances are Oscars won. McLaglen is backed by a spot-on supporting cast, among whom there are no weak links. In particular it is nice to have Donald Meek and Una O'Connor, usually only seen in comic relief roles, playing straight dramatic parts for once (although Meek's appearance does contain one or two jokes, the tone of the scene and much of his manner is serious). Not only do these two deliver incredibly deep performances, their familiarity to most viewers as comedy players gives an added note of poignancy to their part in this tragedy.<br /><br />RKO, who produced the Informer, were perhaps the most adventurous and willing to take risks of all the major studios. Thanks to this, we are able to see a dismal story with a despicable anti-hero at its centre, which could easily have been a clunky, over-earnest mess, instead filled with a moody atmosphere and depth of character which keeps us watching and draws us into its world.\n",
      "\n"
     ]
    }
   ],
   "source": [
    "for i in range(len(correct_data)):\n",
    "    print(correct_data[i] + '\\n')"
   ]
  },
  {
   "cell_type": "code",
   "execution_count": 388,
   "metadata": {},
   "outputs": [
    {
     "name": "stdout",
     "output_type": "stream",
     "text": [
      "I really like Richard Gere...I always have and it seems as of late that his status as a Hollywood star and money maker has slipped but it would appear to me that the reason is that he is taking very mature, intense roles and has been very successful at it just not financially because I have seen him in some truly great gems as of late including The Hoax, The Hunting Party (both must see films! See my reviews) and now this The Flock which apparently was meant to be a big release considering it's substantial 35 million + budget. It seems that some of the other IMDb reviews are very, very harsh because I thought the film dealt with a potentially very serious social issue in a very direct, violent and disturbing way and Gere just brings it all home. It's an action thriller drama that kept my glued to the Television with it's story. I think part of the problem that people seem to have with it is that it Hollywood-izes a very serious issue but I don't think it does it with disrespect but rather tries to take a different spin to make people aware that this exists. In fact it's much the same way that The Hunting Party dealt with war. Hong Kong director Wai-keung Lau did a decent job holding it together but I think the cast is what made it watchable.<br /><br />Richard Gere as you may have guessed from my previous comments is brilliant as a social worker of sorts Erroll Babbage who has kind of created his own style and laws when it comes to keeping track of his \"Flock\" who are registered violent sex offenders. He holds no punches in tracking these people, following them and making absolutely sure they don't re-offend and if they do he'll be the one to identify and stop them any way he can. Gere is so intense and looks drained from this job and he's become violent and angry at watching these monsters loose on the street. He is just fantastic. Claire Danes is also terrific as Babbage's new partner and his replacement who he has to train to do his job. Danes' character is far more typical social worker and is a little taken aback by Babbage's style and methods but slowly realizes what he is trying to accomplish and go up against. The two of them are brilliant together and have terrific chemistry with such vastly different characters. KaDee Strickland plays a disturbed registered offender who appears to be torn from the headlines as she plays a character very reminiscent of Karla Homolka (Paul Bernardo's wife who is now out) for those of you who follow Canadian serial killers. Her character goes a little over the top but she is convincing and horrifying all at once. Russell Sams has a small role as Strickland's new boyfriend and he would have been better probably given a bigger role. Ray Wise, who is a terrific character actor (check him out in Dead End as well as the amazing turn as Satan himself in the WB show Reaper) and he gets a small but good role as the head of the Public Safety department and Babbage's boss.<br /><br />The movie isn't perfect despite the terrific performances of it's lead cast. It takes liberties by really trying to make the film more entertainment than educational but it's just a different angle not unlike the Nicholas Cage dud 8MM. The Flock takes you into the underbelly of the sex trade, kidnapping, human trafficking and more and is just really something to watch. Perhaps it wasn't directed or written as well as it could have been but I am telling you that Danes and Gere together make this movie completely watchable and a really great thriller. It's disturbing but also something that isn't very complex and yet Gere's character in many ways is intensely complex with many layers and also opens social stigma and makes you contemplate about vigilantism in many ways when you see the people Gere deals with. I encourage you all to ignore poor reviews and see it for yourself because it's worth checking out!! 8.5/10\n",
      "\n",
      "Richard Widmark is a tainted character in this movie. He is a professional pickpocket. He's been in prison three times, yet at the beginning of the film, he tries to make it four. Thelma Ritter is a busy body selling information to almost everybody. Jean Peters is amazing as the girl flamed by Widmark.<br /><br />This is a period piece during the McCarthy era where the Red Scare ruled the politics and is worked into this plot quite nicely. What is unusual about this film is that Peters & Ritter are both victims of violent beatings in an era where women were seldom more than sex objects in films. This is what makes this film noir as women often got different roles in this type of film.<br /><br />The film is only 87 minutes long and was obviously made by Fox as the under card for double features in the theater. The sets show it is a limited budget film. The script made J Edgar Hoover mad because patriotism is given short shrift. Hoover wanted it changed.<br /><br />Instead, it became a B under card picture that was a sleeper hit in 1953. The script & acting in it are better than other big features were that year.\n",
      "\n",
      "Hey Arnold! is a slow-paced and slightly boring movie. The plot is not very creative. The Paul Sorvino character (Shenk) is buying all of the decrepit, low-priced buildings in order to build a gigantic mall, shopping complex and office buildings. This plot goes back to many 1960s kids movies. It is boring. Paul Sorvino is not very exciting either, so the idea of him as the bad guy is not very scary. Gramps remembers something about a historical document, and the rest of the movie is about the last 36 hours when Arnold and Jamal must find the document with the undercover aid of Helga, whose father is hoping to become rich thanks to Shenk's Mall. The kids must move around town on buses, and so the exciting chase scene involving a bus is not only silly, but underscores how this movie is written for very young kids. Hey Arnold, the TV cartoon is usually very entertaining, and it has enough humor to appeal to adults. The TV cartoon is usually faster paced and more imaginative than this movie. Hey Arnold the movie, is about five times more sedated, and a good way to put anyone, including kiddies to sleep. Hey Arnold was a tough one to stay awake all the way until the predictable and totally boring ending. If you want to send your kids to a totally non-offensive movie, this is it. I get the feeling that instead of trying to make a 90 minute movie, the producers started out with a 30 minute TV cartoon script and tried to expand it into 90 minutes. This Mall Story definitely could have been covered in the TV cartoon. Hopefully Arnold will bet a better writer if there is ever a sequel.\n",
      "\n"
     ]
    }
   ],
   "source": [
    "for i in range(len(incorrect_data)):\n",
    "    print(incorrect_data[i] + '\\n')"
   ]
  },
  {
   "cell_type": "markdown",
   "metadata": {},
   "source": [
    "__Finally, let's find the accuracy on test set!__"
   ]
  },
  {
   "cell_type": "code",
   "execution_count": 374,
   "metadata": {},
   "outputs": [],
   "source": [
    "files_pos = []\n",
    "dir1 = '../aclImdb/test/pos/'\n",
    "for f in os.listdir(dir1):\n",
    "    files_pos.append([open(dir1+f).read(),1])  #hard-code positive review as 1. This is important!!\n",
    "\n",
    "#Read Negative reviews with label neg in training data\n",
    "files_neg = []\n",
    "dir2 = '../aclImdb/test/neg/'\n",
    "for f in os.listdir(dir2):\n",
    "    files_neg.append([open(dir2+f).read(),0])"
   ]
  },
  {
   "cell_type": "code",
   "execution_count": 380,
   "metadata": {
    "scrolled": true
   },
   "outputs": [],
   "source": [
    "files_test = files_neg+files_pos\n",
    "test_data, test_targets = zip(*files_test)\n",
    "\n",
    "test set tokens\n",
    "print (\"Tokenizing test data\")\n",
    "test_data_tokens, _ = tokenize_dataset(test_data)\n",
    "pkl.dump(test_data_tokens, open(\"test_data_tokens.p\", \"wb\"))\n"
   ]
  },
  {
   "cell_type": "code",
   "execution_count": 378,
   "metadata": {},
   "outputs": [
    {
     "name": "stdout",
     "output_type": "stream",
     "text": [
      "Test dataset size is 25000\n"
     ]
    }
   ],
   "source": [
    "ngram_test_data_tokens = [list(bag_of_ngrams(ngram, review)) for review in test_data_tokens]\n",
    "test_data_indices = token2index_dataset(ngram_test_data_tokens)\n",
    "print (\"Test dataset size is {}\".format(len(test_data_indices)))\n",
    "\n",
    "test_dataset = IMDBdataset(test_data_indices, test_targets)\n",
    "test_loader = torch.utils.data.DataLoader(dataset=test_dataset, \n",
    "                                           batch_size=BATCH_SIZE,\n",
    "                                           collate_fn=IMDB_collate_func,\n",
    "                                           shuffle=False)"
   ]
  },
  {
   "cell_type": "code",
   "execution_count": 385,
   "metadata": {},
   "outputs": [
    {
     "name": "stdout",
     "output_type": "stream",
     "text": [
      "After training for 5 epochs, the test Acc is 83.032\n"
     ]
    }
   ],
   "source": [
    "print (\"After training for {} epochs, the test Acc is {}\".format(NUM_EPOCHS,test_model(test_loader, model)))"
   ]
  }
 ],
 "metadata": {
  "kernelspec": {
   "display_name": "Python 3",
   "language": "python",
   "name": "python3"
  },
  "language_info": {
   "codemirror_mode": {
    "name": "ipython",
    "version": 3
   },
   "file_extension": ".py",
   "mimetype": "text/x-python",
   "name": "python",
   "nbconvert_exporter": "python",
   "pygments_lexer": "ipython3",
   "version": "3.6.5"
  }
 },
 "nbformat": 4,
 "nbformat_minor": 2
}
